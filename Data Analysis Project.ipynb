{
 "cells": [
  {
   "cell_type": "code",
   "execution_count": 149,
   "metadata": {},
   "outputs": [],
   "source": [
    "#importing the neccessary libraries\n",
    "import numpy as np\n",
    "import seaborn as sns\n",
    "import matplotlib.pyplot as plt\n",
    "import pandas as pd\n",
    "import random"
   ]
  },
  {
   "cell_type": "code",
   "execution_count": 150,
   "metadata": {},
   "outputs": [],
   "source": [
    "df = pd.read_csv(\"focus.csv\")"
   ]
  },
  {
   "cell_type": "code",
   "execution_count": 151,
   "metadata": {
    "scrolled": true
   },
   "outputs": [
    {
     "data": {
      "text/html": [
       "<div>\n",
       "<style scoped>\n",
       "    .dataframe tbody tr th:only-of-type {\n",
       "        vertical-align: middle;\n",
       "    }\n",
       "\n",
       "    .dataframe tbody tr th {\n",
       "        vertical-align: top;\n",
       "    }\n",
       "\n",
       "    .dataframe thead th {\n",
       "        text-align: right;\n",
       "    }\n",
       "</style>\n",
       "<table border=\"1\" class=\"dataframe\">\n",
       "  <thead>\n",
       "    <tr style=\"text-align: right;\">\n",
       "      <th></th>\n",
       "      <th>model</th>\n",
       "      <th>year</th>\n",
       "      <th>price</th>\n",
       "      <th>transmission</th>\n",
       "      <th>mileage</th>\n",
       "      <th>fuel type</th>\n",
       "      <th>engine size</th>\n",
       "      <th>mileage2</th>\n",
       "      <th>fuel type2</th>\n",
       "      <th>engine size2</th>\n",
       "      <th>reference</th>\n",
       "    </tr>\n",
       "  </thead>\n",
       "  <tbody>\n",
       "    <tr>\n",
       "      <th>0</th>\n",
       "      <td>Focus</td>\n",
       "      <td>2016.0</td>\n",
       "      <td>£8,000</td>\n",
       "      <td>Manual</td>\n",
       "      <td>NaN</td>\n",
       "      <td>Petrol</td>\n",
       "      <td>0.999</td>\n",
       "      <td>38,852</td>\n",
       "      <td>NaN</td>\n",
       "      <td>NaN</td>\n",
       "      <td>/ad/25451236</td>\n",
       "    </tr>\n",
       "    <tr>\n",
       "      <th>1</th>\n",
       "      <td>Focus</td>\n",
       "      <td>2019.0</td>\n",
       "      <td>£13,400</td>\n",
       "      <td>Manual</td>\n",
       "      <td>NaN</td>\n",
       "      <td>Petrol</td>\n",
       "      <td>0.999</td>\n",
       "      <td>11,952</td>\n",
       "      <td>NaN</td>\n",
       "      <td>NaN</td>\n",
       "      <td>/ad/25466927</td>\n",
       "    </tr>\n",
       "    <tr>\n",
       "      <th>2</th>\n",
       "      <td>Focus</td>\n",
       "      <td>2019.0</td>\n",
       "      <td>£14,600</td>\n",
       "      <td>Manual</td>\n",
       "      <td>NaN</td>\n",
       "      <td>Petrol</td>\n",
       "      <td>1.498</td>\n",
       "      <td>22,142</td>\n",
       "      <td>NaN</td>\n",
       "      <td>NaN</td>\n",
       "      <td>/ad/25484363</td>\n",
       "    </tr>\n",
       "    <tr>\n",
       "      <th>3</th>\n",
       "      <td>Focus</td>\n",
       "      <td>2016.0</td>\n",
       "      <td>£9,450</td>\n",
       "      <td>Manual</td>\n",
       "      <td>NaN</td>\n",
       "      <td>Diesel</td>\n",
       "      <td>1.56</td>\n",
       "      <td>14,549</td>\n",
       "      <td>NaN</td>\n",
       "      <td>NaN</td>\n",
       "      <td>/ad/20444868</td>\n",
       "    </tr>\n",
       "    <tr>\n",
       "      <th>4</th>\n",
       "      <td>Focus</td>\n",
       "      <td>2015.0</td>\n",
       "      <td>£9,999</td>\n",
       "      <td>Manual</td>\n",
       "      <td>NaN</td>\n",
       "      <td>Diesel</td>\n",
       "      <td>1.56</td>\n",
       "      <td>7,010</td>\n",
       "      <td>NaN</td>\n",
       "      <td>NaN</td>\n",
       "      <td>/ad/22551057</td>\n",
       "    </tr>\n",
       "  </tbody>\n",
       "</table>\n",
       "</div>"
      ],
      "text/plain": [
       "    model    year     price transmission mileage fuel type engine size  \\\n",
       "0   Focus  2016.0    £8,000       Manual     NaN    Petrol       0.999   \n",
       "1   Focus  2019.0   £13,400       Manual     NaN    Petrol       0.999   \n",
       "2   Focus  2019.0   £14,600       Manual     NaN    Petrol       1.498   \n",
       "3   Focus  2016.0    £9,450       Manual     NaN    Diesel        1.56   \n",
       "4   Focus  2015.0    £9,999       Manual     NaN    Diesel        1.56   \n",
       "\n",
       "  mileage2 fuel type2 engine size2     reference  \n",
       "0   38,852        NaN          NaN  /ad/25451236  \n",
       "1   11,952        NaN          NaN  /ad/25466927  \n",
       "2   22,142        NaN          NaN  /ad/25484363  \n",
       "3   14,549        NaN          NaN  /ad/20444868  \n",
       "4    7,010        NaN          NaN  /ad/22551057  "
      ]
     },
     "execution_count": 151,
     "metadata": {},
     "output_type": "execute_result"
    }
   ],
   "source": [
    "df.head()"
   ]
  },
  {
   "cell_type": "code",
   "execution_count": 152,
   "metadata": {},
   "outputs": [
    {
     "data": {
      "text/plain": [
       "(5604, 11)"
      ]
     },
     "execution_count": 152,
     "metadata": {},
     "output_type": "execute_result"
    }
   ],
   "source": [
    "df.shape"
   ]
  },
  {
   "cell_type": "code",
   "execution_count": 153,
   "metadata": {},
   "outputs": [
    {
     "data": {
      "text/plain": [
       "Index(['model', 'year', 'price', 'transmission', 'mileage', 'fuel type',\n",
       "       'engine size', 'mileage2', 'fuel type2', 'engine size2', 'reference'],\n",
       "      dtype='object')"
      ]
     },
     "execution_count": 153,
     "metadata": {},
     "output_type": "execute_result"
    }
   ],
   "source": [
    "df.columns"
   ]
  },
  {
   "cell_type": "code",
   "execution_count": 162,
   "metadata": {},
   "outputs": [
    {
     "data": {
      "text/plain": [
       "model           object\n",
       "year            object\n",
       "price           object\n",
       "transmission    object\n",
       "mileage         object\n",
       "fuel type       object\n",
       "engine size     object\n",
       "mileage2        object\n",
       "fuel type2      object\n",
       "engine size2    object\n",
       "reference       object\n",
       "dtype: object"
      ]
     },
     "execution_count": 162,
     "metadata": {},
     "output_type": "execute_result"
    }
   ],
   "source": [
    "df.dtypes"
   ]
  },
  {
   "cell_type": "markdown",
   "metadata": {},
   "source": [
    "Now, I will begin with the data cleaning"
   ]
  },
  {
   "cell_type": "code",
   "execution_count": 163,
   "metadata": {},
   "outputs": [],
   "source": [
    "df['price'] = df['price'].str.replace(\"£\", \"\") # removing \"£\" from price column"
   ]
  },
  {
   "cell_type": "code",
   "execution_count": 164,
   "metadata": {},
   "outputs": [],
   "source": [
    "df['year'] = df['year'].astype('str') # splitting year column to remove decimal part\n",
    "df['year'] = df['year'].apply(lambda x: x.split('.')[0])"
   ]
  },
  {
   "cell_type": "code",
   "execution_count": 165,
   "metadata": {},
   "outputs": [],
   "source": [
    "df['price'] = df['price'].str.replace(',', '') # removing \",\" from price, mileage & mileage2 columns\n",
    "df['mileage2'] = df['mileage2'].str.replace(',', '')\n",
    "df['mileage'] = df['mileage'].str.replace(',', '')"
   ]
  },
  {
   "cell_type": "code",
   "execution_count": 166,
   "metadata": {},
   "outputs": [
    {
     "data": {
      "text/plain": [
       "model             56\n",
       "year               0\n",
       "price             56\n",
       "transmission      56\n",
       "mileage          875\n",
       "fuel type       3416\n",
       "engine size      101\n",
       "mileage2          95\n",
       "fuel type2       875\n",
       "engine size2     875\n",
       "reference          0\n",
       "dtype: int64"
      ]
     },
     "execution_count": 166,
     "metadata": {},
     "output_type": "execute_result"
    }
   ],
   "source": [
    "df.isnull().sum()"
   ]
  },
  {
   "cell_type": "code",
   "execution_count": 167,
   "metadata": {},
   "outputs": [],
   "source": [
    "df['reference'] = df['reference'].astype('str') #removing the unwanted characters from reference\n",
    "df['reference'] = df['reference'].apply(lambda x: x.replace('/ad/', ''))\n",
    "df['reference'] = df['reference'].apply(lambda x: x.replace('ad', ''))"
   ]
  },
  {
   "cell_type": "code",
   "execution_count": 168,
   "metadata": {},
   "outputs": [],
   "source": [
    "df['engine size'] = df['engine size'].str.replace(\"£\", \"\")"
   ]
  },
  {
   "cell_type": "code",
   "execution_count": 169,
   "metadata": {},
   "outputs": [],
   "source": [
    "df['model'] = df['model'].fillna('Focus') # filling the model column with \"Focus\", since the dataset is about the Focus model"
   ]
  },
  {
   "cell_type": "code",
   "execution_count": 170,
   "metadata": {},
   "outputs": [],
   "source": [
    "df['price'] = pd.to_numeric(df['price'], errors = 'coerce') #filling price NA's with mean\n",
    "df['price'] = df['price'].fillna(value = df['price'].mean())"
   ]
  },
  {
   "cell_type": "code",
   "execution_count": 171,
   "metadata": {},
   "outputs": [],
   "source": [
    "df['transmission'] = df['transmission'].fillna(method = 'ffill') # fill NA in transmission column using 'ffill'"
   ]
  },
  {
   "cell_type": "code",
   "execution_count": 172,
   "metadata": {},
   "outputs": [
    {
     "data": {
      "text/html": [
       "<div>\n",
       "<style scoped>\n",
       "    .dataframe tbody tr th:only-of-type {\n",
       "        vertical-align: middle;\n",
       "    }\n",
       "\n",
       "    .dataframe tbody tr th {\n",
       "        vertical-align: top;\n",
       "    }\n",
       "\n",
       "    .dataframe thead th {\n",
       "        text-align: right;\n",
       "    }\n",
       "</style>\n",
       "<table border=\"1\" class=\"dataframe\">\n",
       "  <thead>\n",
       "    <tr style=\"text-align: right;\">\n",
       "      <th></th>\n",
       "      <th>model</th>\n",
       "      <th>year</th>\n",
       "      <th>price</th>\n",
       "      <th>transmission</th>\n",
       "      <th>mileage</th>\n",
       "      <th>fuel type</th>\n",
       "      <th>engine size</th>\n",
       "      <th>mileage2</th>\n",
       "      <th>fuel type2</th>\n",
       "      <th>engine size2</th>\n",
       "      <th>reference</th>\n",
       "    </tr>\n",
       "  </thead>\n",
       "  <tbody>\n",
       "    <tr>\n",
       "      <th>0</th>\n",
       "      <td>Focus</td>\n",
       "      <td>2016</td>\n",
       "      <td>8000.0</td>\n",
       "      <td>Manual</td>\n",
       "      <td>NaN</td>\n",
       "      <td>Petrol</td>\n",
       "      <td>0.999</td>\n",
       "      <td>38852</td>\n",
       "      <td>NaN</td>\n",
       "      <td>NaN</td>\n",
       "      <td>25451236</td>\n",
       "    </tr>\n",
       "    <tr>\n",
       "      <th>1</th>\n",
       "      <td>Focus</td>\n",
       "      <td>2019</td>\n",
       "      <td>13400.0</td>\n",
       "      <td>Manual</td>\n",
       "      <td>NaN</td>\n",
       "      <td>Petrol</td>\n",
       "      <td>0.999</td>\n",
       "      <td>11952</td>\n",
       "      <td>NaN</td>\n",
       "      <td>NaN</td>\n",
       "      <td>25466927</td>\n",
       "    </tr>\n",
       "    <tr>\n",
       "      <th>2</th>\n",
       "      <td>Focus</td>\n",
       "      <td>2019</td>\n",
       "      <td>14600.0</td>\n",
       "      <td>Manual</td>\n",
       "      <td>NaN</td>\n",
       "      <td>Petrol</td>\n",
       "      <td>1.498</td>\n",
       "      <td>22142</td>\n",
       "      <td>NaN</td>\n",
       "      <td>NaN</td>\n",
       "      <td>25484363</td>\n",
       "    </tr>\n",
       "    <tr>\n",
       "      <th>3</th>\n",
       "      <td>Focus</td>\n",
       "      <td>2016</td>\n",
       "      <td>9450.0</td>\n",
       "      <td>Manual</td>\n",
       "      <td>NaN</td>\n",
       "      <td>Diesel</td>\n",
       "      <td>1.56</td>\n",
       "      <td>14549</td>\n",
       "      <td>NaN</td>\n",
       "      <td>NaN</td>\n",
       "      <td>20444868</td>\n",
       "    </tr>\n",
       "    <tr>\n",
       "      <th>4</th>\n",
       "      <td>Focus</td>\n",
       "      <td>2015</td>\n",
       "      <td>9999.0</td>\n",
       "      <td>Manual</td>\n",
       "      <td>NaN</td>\n",
       "      <td>Diesel</td>\n",
       "      <td>1.56</td>\n",
       "      <td>7010</td>\n",
       "      <td>NaN</td>\n",
       "      <td>NaN</td>\n",
       "      <td>22551057</td>\n",
       "    </tr>\n",
       "  </tbody>\n",
       "</table>\n",
       "</div>"
      ],
      "text/plain": [
       "    model  year    price transmission mileage fuel type engine size mileage2  \\\n",
       "0   Focus  2016   8000.0       Manual     NaN    Petrol       0.999    38852   \n",
       "1   Focus  2019  13400.0       Manual     NaN    Petrol       0.999    11952   \n",
       "2   Focus  2019  14600.0       Manual     NaN    Petrol       1.498    22142   \n",
       "3   Focus  2016   9450.0       Manual     NaN    Diesel        1.56    14549   \n",
       "4   Focus  2015   9999.0       Manual     NaN    Diesel        1.56     7010   \n",
       "\n",
       "  fuel type2 engine size2 reference  \n",
       "0        NaN          NaN  25451236  \n",
       "1        NaN          NaN  25466927  \n",
       "2        NaN          NaN  25484363  \n",
       "3        NaN          NaN  20444868  \n",
       "4        NaN          NaN  22551057  "
      ]
     },
     "execution_count": 172,
     "metadata": {},
     "output_type": "execute_result"
    }
   ],
   "source": [
    "df.head()"
   ]
  },
  {
   "cell_type": "code",
   "execution_count": 173,
   "metadata": {},
   "outputs": [],
   "source": [
    "df.dropna(subset = ['mileage2'], inplace = True) #drop NAs in mileage2 column and assign to a new column called \"Mileage\"\n",
    "del df['mileage']"
   ]
  },
  {
   "cell_type": "code",
   "execution_count": 174,
   "metadata": {},
   "outputs": [],
   "source": [
    "df.dropna(subset = ['fuel type2'], inplace = True) # drop fuel type column and deleting NAs in fuel type column\n",
    "del df['fuel type']"
   ]
  },
  {
   "cell_type": "code",
   "execution_count": 175,
   "metadata": {},
   "outputs": [],
   "source": [
    "# deleting engine size2 column and removing NAs from engine size column\n",
    "df.dropna(subset = ['engine size'], inplace = True)\n",
    "del df['engine size2']"
   ]
  },
  {
   "cell_type": "code",
   "execution_count": 176,
   "metadata": {},
   "outputs": [
    {
     "data": {
      "text/html": [
       "<div>\n",
       "<style scoped>\n",
       "    .dataframe tbody tr th:only-of-type {\n",
       "        vertical-align: middle;\n",
       "    }\n",
       "\n",
       "    .dataframe tbody tr th {\n",
       "        vertical-align: top;\n",
       "    }\n",
       "\n",
       "    .dataframe thead th {\n",
       "        text-align: right;\n",
       "    }\n",
       "</style>\n",
       "<table border=\"1\" class=\"dataframe\">\n",
       "  <thead>\n",
       "    <tr style=\"text-align: right;\">\n",
       "      <th></th>\n",
       "      <th>model</th>\n",
       "      <th>year</th>\n",
       "      <th>price</th>\n",
       "      <th>transmission</th>\n",
       "      <th>engine size</th>\n",
       "      <th>mileage2</th>\n",
       "      <th>fuel type2</th>\n",
       "      <th>reference</th>\n",
       "    </tr>\n",
       "  </thead>\n",
       "  <tbody>\n",
       "    <tr>\n",
       "      <th>10</th>\n",
       "      <td>Focus</td>\n",
       "      <td>2018</td>\n",
       "      <td>12300.0</td>\n",
       "      <td>Manual</td>\n",
       "      <td>145</td>\n",
       "      <td>57.7</td>\n",
       "      <td>Petrol</td>\n",
       "      <td>25435268</td>\n",
       "    </tr>\n",
       "    <tr>\n",
       "      <th>11</th>\n",
       "      <td>Focus</td>\n",
       "      <td>2015</td>\n",
       "      <td>7500.0</td>\n",
       "      <td>Manual</td>\n",
       "      <td>20</td>\n",
       "      <td>61.4</td>\n",
       "      <td>Petrol</td>\n",
       "      <td>25476700</td>\n",
       "    </tr>\n",
       "    <tr>\n",
       "      <th>12</th>\n",
       "      <td>Focus</td>\n",
       "      <td>2017</td>\n",
       "      <td>9600.0</td>\n",
       "      <td>Manual</td>\n",
       "      <td>0</td>\n",
       "      <td>74.3</td>\n",
       "      <td>Diesel</td>\n",
       "      <td>25476685</td>\n",
       "    </tr>\n",
       "    <tr>\n",
       "      <th>13</th>\n",
       "      <td>Focus</td>\n",
       "      <td>2015</td>\n",
       "      <td>9500.0</td>\n",
       "      <td>Automatic</td>\n",
       "      <td>165</td>\n",
       "      <td>44.8</td>\n",
       "      <td>Petrol</td>\n",
       "      <td>25476687</td>\n",
       "    </tr>\n",
       "    <tr>\n",
       "      <th>14</th>\n",
       "      <td>Focus</td>\n",
       "      <td>2016</td>\n",
       "      <td>9400.0</td>\n",
       "      <td>Manual</td>\n",
       "      <td>20</td>\n",
       "      <td>61.4</td>\n",
       "      <td>Petrol</td>\n",
       "      <td>25476699</td>\n",
       "    </tr>\n",
       "  </tbody>\n",
       "</table>\n",
       "</div>"
      ],
      "text/plain": [
       "     model  year    price transmission engine size mileage2 fuel type2  \\\n",
       "10   Focus  2018  12300.0       Manual         145     57.7     Petrol   \n",
       "11   Focus  2015   7500.0       Manual          20     61.4     Petrol   \n",
       "12   Focus  2017   9600.0       Manual           0     74.3     Diesel   \n",
       "13   Focus  2015   9500.0    Automatic         165     44.8     Petrol   \n",
       "14   Focus  2016   9400.0       Manual          20     61.4     Petrol   \n",
       "\n",
       "   reference  \n",
       "10  25435268  \n",
       "11  25476700  \n",
       "12  25476685  \n",
       "13  25476687  \n",
       "14  25476699  "
      ]
     },
     "execution_count": 176,
     "metadata": {},
     "output_type": "execute_result"
    }
   ],
   "source": [
    "df.head()"
   ]
  },
  {
   "cell_type": "code",
   "execution_count": 177,
   "metadata": {},
   "outputs": [
    {
     "data": {
      "text/plain": [
       "model           0\n",
       "year            0\n",
       "price           0\n",
       "transmission    0\n",
       "engine size     0\n",
       "mileage2        0\n",
       "fuel type2      0\n",
       "reference       0\n",
       "dtype: int64"
      ]
     },
     "execution_count": 177,
     "metadata": {},
     "output_type": "execute_result"
    }
   ],
   "source": [
    "df.isnull().sum()"
   ]
  },
  {
   "cell_type": "code",
   "execution_count": 178,
   "metadata": {},
   "outputs": [],
   "source": [
    "df.drop(df.index[df['fuel type2'] == 'Other'], inplace = True) # deleting characters other than \"Pretol\" or \"Diesel\" from fuel2 column"
   ]
  },
  {
   "cell_type": "code",
   "execution_count": 179,
   "metadata": {},
   "outputs": [
    {
     "data": {
      "text/plain": [
       "(4679, 8)"
      ]
     },
     "execution_count": 179,
     "metadata": {},
     "output_type": "execute_result"
    }
   ],
   "source": [
    "df.shape"
   ]
  },
  {
   "cell_type": "code",
   "execution_count": 180,
   "metadata": {},
   "outputs": [
    {
     "data": {
      "text/html": [
       "<div>\n",
       "<style scoped>\n",
       "    .dataframe tbody tr th:only-of-type {\n",
       "        vertical-align: middle;\n",
       "    }\n",
       "\n",
       "    .dataframe tbody tr th {\n",
       "        vertical-align: top;\n",
       "    }\n",
       "\n",
       "    .dataframe thead th {\n",
       "        text-align: right;\n",
       "    }\n",
       "</style>\n",
       "<table border=\"1\" class=\"dataframe\">\n",
       "  <thead>\n",
       "    <tr style=\"text-align: right;\">\n",
       "      <th></th>\n",
       "      <th>model</th>\n",
       "      <th>year</th>\n",
       "      <th>price</th>\n",
       "      <th>transmission</th>\n",
       "      <th>engine size</th>\n",
       "      <th>mileage2</th>\n",
       "      <th>fuel type2</th>\n",
       "      <th>reference</th>\n",
       "    </tr>\n",
       "  </thead>\n",
       "  <tbody>\n",
       "    <tr>\n",
       "      <th>0</th>\n",
       "      <td>Focus</td>\n",
       "      <td>2018</td>\n",
       "      <td>12300.0</td>\n",
       "      <td>Manual</td>\n",
       "      <td>145</td>\n",
       "      <td>57.7</td>\n",
       "      <td>Petrol</td>\n",
       "      <td>25435268</td>\n",
       "    </tr>\n",
       "    <tr>\n",
       "      <th>1</th>\n",
       "      <td>Focus</td>\n",
       "      <td>2015</td>\n",
       "      <td>7500.0</td>\n",
       "      <td>Manual</td>\n",
       "      <td>20</td>\n",
       "      <td>61.4</td>\n",
       "      <td>Petrol</td>\n",
       "      <td>25476700</td>\n",
       "    </tr>\n",
       "    <tr>\n",
       "      <th>2</th>\n",
       "      <td>Focus</td>\n",
       "      <td>2017</td>\n",
       "      <td>9600.0</td>\n",
       "      <td>Manual</td>\n",
       "      <td>0</td>\n",
       "      <td>74.3</td>\n",
       "      <td>Diesel</td>\n",
       "      <td>25476685</td>\n",
       "    </tr>\n",
       "    <tr>\n",
       "      <th>3</th>\n",
       "      <td>Focus</td>\n",
       "      <td>2015</td>\n",
       "      <td>9500.0</td>\n",
       "      <td>Automatic</td>\n",
       "      <td>165</td>\n",
       "      <td>44.8</td>\n",
       "      <td>Petrol</td>\n",
       "      <td>25476687</td>\n",
       "    </tr>\n",
       "    <tr>\n",
       "      <th>4</th>\n",
       "      <td>Focus</td>\n",
       "      <td>2016</td>\n",
       "      <td>9400.0</td>\n",
       "      <td>Manual</td>\n",
       "      <td>20</td>\n",
       "      <td>61.4</td>\n",
       "      <td>Petrol</td>\n",
       "      <td>25476699</td>\n",
       "    </tr>\n",
       "    <tr>\n",
       "      <th>...</th>\n",
       "      <td>...</td>\n",
       "      <td>...</td>\n",
       "      <td>...</td>\n",
       "      <td>...</td>\n",
       "      <td>...</td>\n",
       "      <td>...</td>\n",
       "      <td>...</td>\n",
       "      <td>...</td>\n",
       "    </tr>\n",
       "    <tr>\n",
       "      <th>4674</th>\n",
       "      <td>Focus</td>\n",
       "      <td>2018</td>\n",
       "      <td>12995.0</td>\n",
       "      <td>Manual</td>\n",
       "      <td>145</td>\n",
       "      <td>57.7</td>\n",
       "      <td>Petrol</td>\n",
       "      <td>25443467</td>\n",
       "    </tr>\n",
       "    <tr>\n",
       "      <th>4675</th>\n",
       "      <td>Focus</td>\n",
       "      <td>2014</td>\n",
       "      <td>5995.0</td>\n",
       "      <td>Manual</td>\n",
       "      <td>20</td>\n",
       "      <td>67.3</td>\n",
       "      <td>Diesel</td>\n",
       "      <td>25139588</td>\n",
       "    </tr>\n",
       "    <tr>\n",
       "      <th>4676</th>\n",
       "      <td>Focus</td>\n",
       "      <td>2019</td>\n",
       "      <td>17499.0</td>\n",
       "      <td>Automatic</td>\n",
       "      <td>145</td>\n",
       "      <td>50.4</td>\n",
       "      <td>Petrol</td>\n",
       "      <td>25388571</td>\n",
       "    </tr>\n",
       "    <tr>\n",
       "      <th>4677</th>\n",
       "      <td>Focus</td>\n",
       "      <td>2006</td>\n",
       "      <td>1495.0</td>\n",
       "      <td>Manual</td>\n",
       "      <td>125</td>\n",
       "      <td>58.9</td>\n",
       "      <td>Diesel</td>\n",
       "      <td>25049249</td>\n",
       "    </tr>\n",
       "    <tr>\n",
       "      <th>4678</th>\n",
       "      <td>Focus</td>\n",
       "      <td>2017</td>\n",
       "      <td>14000.0</td>\n",
       "      <td>Automatic</td>\n",
       "      <td>125</td>\n",
       "      <td>51.4</td>\n",
       "      <td>Petrol</td>\n",
       "      <td>25135642</td>\n",
       "    </tr>\n",
       "  </tbody>\n",
       "</table>\n",
       "<p>4679 rows × 8 columns</p>\n",
       "</div>"
      ],
      "text/plain": [
       "       model  year    price transmission engine size mileage2 fuel type2  \\\n",
       "0      Focus  2018  12300.0       Manual         145     57.7     Petrol   \n",
       "1      Focus  2015   7500.0       Manual          20     61.4     Petrol   \n",
       "2      Focus  2017   9600.0       Manual           0     74.3     Diesel   \n",
       "3      Focus  2015   9500.0    Automatic         165     44.8     Petrol   \n",
       "4      Focus  2016   9400.0       Manual          20     61.4     Petrol   \n",
       "...      ...   ...      ...          ...         ...      ...        ...   \n",
       "4674   Focus  2018  12995.0       Manual         145     57.7     Petrol   \n",
       "4675   Focus  2014   5995.0       Manual          20     67.3     Diesel   \n",
       "4676   Focus  2019  17499.0    Automatic         145     50.4     Petrol   \n",
       "4677   Focus  2006   1495.0       Manual         125     58.9     Diesel   \n",
       "4678   Focus  2017  14000.0    Automatic         125     51.4     Petrol   \n",
       "\n",
       "     reference  \n",
       "0     25435268  \n",
       "1     25476700  \n",
       "2     25476685  \n",
       "3     25476687  \n",
       "4     25476699  \n",
       "...        ...  \n",
       "4674  25443467  \n",
       "4675  25139588  \n",
       "4676  25388571  \n",
       "4677  25049249  \n",
       "4678  25135642  \n",
       "\n",
       "[4679 rows x 8 columns]"
      ]
     },
     "execution_count": 180,
     "metadata": {},
     "output_type": "execute_result"
    }
   ],
   "source": [
    "df.reset_index(drop = True) # resetting index"
   ]
  },
  {
   "cell_type": "code",
   "execution_count": 181,
   "metadata": {},
   "outputs": [
    {
     "data": {
      "text/plain": [
       "model            object\n",
       "year             object\n",
       "price           float64\n",
       "transmission     object\n",
       "engine size      object\n",
       "mileage2         object\n",
       "fuel type2       object\n",
       "reference        object\n",
       "dtype: object"
      ]
     },
     "execution_count": 181,
     "metadata": {},
     "output_type": "execute_result"
    }
   ],
   "source": [
    "df.dtypes"
   ]
  },
  {
   "cell_type": "code",
   "execution_count": 186,
   "metadata": {},
   "outputs": [],
   "source": [
    "col = [ 'year','engine size', 'reference']  #coverting year, engine size & reference to dtype numeric\n",
    "for x in col:\n",
    "    df[x] = pd.to_numeric(df[x], downcast='signed', errors = 'coerce')\n"
   ]
  },
  {
   "cell_type": "code",
   "execution_count": 190,
   "metadata": {},
   "outputs": [],
   "source": [
    "df['Car_age'] = 2021 - df['year'] #Calculating age of car"
   ]
  },
  {
   "cell_type": "code",
   "execution_count": 191,
   "metadata": {},
   "outputs": [],
   "source": [
    "df['mileage2'] = df[ 'mileage2'].astype(float) # converting mileage to float"
   ]
  },
  {
   "cell_type": "code",
   "execution_count": 192,
   "metadata": {},
   "outputs": [],
   "source": [
    "df['price'] = pd.to_numeric(df['price'], downcast='signed', errors = 'coerce') #converting price to int dtype "
   ]
  },
  {
   "cell_type": "code",
   "execution_count": 193,
   "metadata": {},
   "outputs": [
    {
     "data": {
      "text/plain": [
       "model            object\n",
       "year            float64\n",
       "price             int32\n",
       "transmission     object\n",
       "engine size       int16\n",
       "mileage2        float64\n",
       "fuel type2       object\n",
       "reference         int32\n",
       "Car_age         float64\n",
       "dtype: object"
      ]
     },
     "execution_count": 193,
     "metadata": {},
     "output_type": "execute_result"
    }
   ],
   "source": [
    "df.dtypes"
   ]
  },
  {
   "cell_type": "markdown",
   "metadata": {},
   "source": [
    "EXPLORATORY DATA ANALYSIS"
   ]
  },
  {
   "cell_type": "code",
   "execution_count": 194,
   "metadata": {
    "scrolled": true
   },
   "outputs": [
    {
     "data": {
      "image/png": "[encoded data removed]",
      "text/plain": [
       "<Figure size 1440x360 with 2 Axes>"
      ]
     },
     "metadata": {
      "needs_background": "light"
     },
     "output_type": "display_data"
    }
   ],
   "source": [
    "figure,(ax3,ax4)=plt.subplots(ncols=2,figsize=(20,5)) # exploring thr different transmission and fuel type mode for the cars\n",
    "ax3.set_title('Different transmission mode')\n",
    "ax=sns.countplot(x=\"transmission\",data=df,ax=ax3)\n",
    "ax4.set_title('Different Fuel type')\n",
    "ax=sns.countplot(x=\"fuel type2\",data=df,ax=ax4)\n",
    "\n"
   ]
  },
  {
   "cell_type": "markdown",
   "metadata": {},
   "source": [
    "We can see that majority of the cars have manual transmissions and and uses petrol."
   ]
  },
  {
   "cell_type": "code",
   "execution_count": 195,
   "metadata": {},
   "outputs": [
    {
     "data": {
      "text/plain": [
       "<Figure size 2160x720 with 0 Axes>"
      ]
     },
     "execution_count": 195,
     "metadata": {},
     "output_type": "execute_result"
    },
    {
     "data": {
      "image/png": "[encoded data removed]",
      "text/plain": [
       "<Figure size 432x288 with 1 Axes>"
      ]
     },
     "metadata": {
      "needs_background": "light"
     },
     "output_type": "display_data"
    },
    {
     "data": {
      "text/plain": [
       "<Figure size 2160x720 with 0 Axes>"
      ]
     },
     "metadata": {},
     "output_type": "display_data"
    }
   ],
   "source": [
    "sns.barplot(x ='transmission', y ='price', data=df)\n",
    "plt.title(\"A bar plot of transmission of the cars against price\")\n",
    "plt.figure(figsize = (30, 10))"
   ]
  },
  {
   "cell_type": "markdown",
   "metadata": {},
   "source": [
    "We could see that cars with automatics transmission are more pricey, and also, price plays a little difference regarding the between a car with Manual & Semi_Auto transmission. "
   ]
  },
  {
   "cell_type": "code",
   "execution_count": 198,
   "metadata": {},
   "outputs": [
    {
     "data": {
      "text/plain": [
       "<Figure size 2880x720 with 0 Axes>"
      ]
     },
     "execution_count": 198,
     "metadata": {},
     "output_type": "execute_result"
    },
    {
     "data": {
      "image/png": "[encoded data removed]",
      "text/plain": [
       "<Figure size 432x288 with 1 Axes>"
      ]
     },
     "metadata": {
      "needs_background": "light"
     },
     "output_type": "display_data"
    },
    {
     "data": {
      "text/plain": [
       "<Figure size 2880x720 with 0 Axes>"
      ]
     },
     "metadata": {},
     "output_type": "display_data"
    }
   ],
   "source": [
    "sns.scatterplot(data = df, x = df['Car_age'], y = df['price']) #scatterplot of age of car against price\n",
    "plt.title(\"A scatterplot depreciation of price of the car as age increases\")\n",
    "plt.figure(figsize = (40, 10))"
   ]
  },
  {
   "cell_type": "markdown",
   "metadata": {},
   "source": [
    "we could see that age of the car has a huge impact on the price, as indicated from the graph. "
   ]
  },
  {
   "cell_type": "code",
   "execution_count": 203,
   "metadata": {},
   "outputs": [
    {
     "data": {
      "text/plain": [
       "<Figure size 2880x720 with 0 Axes>"
      ]
     },
     "execution_count": 203,
     "metadata": {},
     "output_type": "execute_result"
    },
    {
     "data": {
      "image/png": "[encoded data removed]",
      "text/plain": [
       "<Figure size 432x288 with 1 Axes>"
      ]
     },
     "metadata": {
      "needs_background": "light"
     },
     "output_type": "display_data"
    },
    {
     "data": {
      "text/plain": [
       "<Figure size 2880x720 with 0 Axes>"
      ]
     },
     "metadata": {},
     "output_type": "display_data"
    }
   ],
   "source": [
    "sns.scatterplot(data = df, x = df['mileage2'], y = df['price'], hue = 'transmission') #scatterplot of age of car against price\n",
    "plt.title(\"Relationship between mileage and price\")\n",
    "plt.figure(figsize = (40, 10))"
   ]
  },
  {
   "cell_type": "markdown",
   "metadata": {},
   "source": [
    "we could see that a car with automatic transmission relatively high mileage commands a better price than either of a car with Manual or Semi_auto"
   ]
  },
  {
   "cell_type": "code",
   "execution_count": 201,
   "metadata": {},
   "outputs": [
    {
     "data": {
      "text/plain": [
       "<Figure size 2160x864 with 0 Axes>"
      ]
     },
     "execution_count": 201,
     "metadata": {},
     "output_type": "execute_result"
    },
    {
     "data": {
      "image/png": "[encoded data removed]",
      "text/plain": [
       "<Figure size 432x288 with 1 Axes>"
      ]
     },
     "metadata": {
      "needs_background": "light"
     },
     "output_type": "display_data"
    },
    {
     "data": {
      "text/plain": [
       "<Figure size 2160x864 with 0 Axes>"
      ]
     },
     "metadata": {},
     "output_type": "display_data"
    }
   ],
   "source": [
    "sns.barplot(x = \"transmission\", y = \"price\", hue = \"fuel type2\", data = df);\n",
    "plt.figure(figsize = (30,12))"
   ]
  },
  {
   "cell_type": "code",
   "execution_count": 210,
   "metadata": {},
   "outputs": [],
   "source": [
    "df1 = df[['price', 'engine size', 'mileage2', 'Car_age', 'reference']]"
   ]
  },
  {
   "cell_type": "code",
   "execution_count": 211,
   "metadata": {},
   "outputs": [
    {
     "data": {
      "text/plain": [
       "<AxesSubplot:>"
      ]
     },
     "execution_count": 211,
     "metadata": {},
     "output_type": "execute_result"
    },
    {
     "data": {
      "image/png": "[encoded data removed]",
      "text/plain": [
       "<Figure size 1080x720 with 2 Axes>"
      ]
     },
     "metadata": {},
     "output_type": "display_data"
    }
   ],
   "source": [
    "# ploting heatmap\n",
    "plt.figure(figsize=[15,10], facecolor='blue')\n",
    "sns.heatmap(df1.corr(), annot=True)"
   ]
  },
  {
   "cell_type": "markdown",
   "metadata": {},
   "source": [
    "As corroborated from the heatmap above, the age of a car is negativelly corrolated with the price, while the mileage, reference have negligible impact on the price. The engine size of the car is also moderately corrolated with the price of the car as seen from the heat map."
   ]
  }
 ],
 "metadata": {
  "kernelspec": {
   "display_name": "Python 3",
   "language": "python",
   "name": "python3"
  },
  "language_info": {
   "codemirror_mode": {
    "name": "ipython",
    "version": 3
   },
   "file_extension": ".py",
   "mimetype": "text/x-python",
   "name": "python",
   "nbconvert_exporter": "python",
   "pygments_lexer": "ipython3",
   "version": "3.8.5"
  }
 },
 "nbformat": 4,
 "nbformat_minor": 4
}
